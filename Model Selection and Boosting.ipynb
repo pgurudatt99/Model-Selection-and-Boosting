{
 "cells": [
  {
   "cell_type": "code",
   "execution_count": 3,
   "id": "f46cfdc7",
   "metadata": {},
   "outputs": [
    {
     "name": "stdout",
     "output_type": "stream",
     "text": [
      "          RI     Na    Mg    Al     Si     K    Ca    Ba   Fe  Type\n",
      "0    1.52101  13.64  4.49  1.10  71.78  0.06  8.75  0.00  0.0     1\n",
      "1    1.51761  13.89  3.60  1.36  72.73  0.48  7.83  0.00  0.0     1\n",
      "2    1.51618  13.53  3.55  1.54  72.99  0.39  7.78  0.00  0.0     1\n",
      "3    1.51766  13.21  3.69  1.29  72.61  0.57  8.22  0.00  0.0     1\n",
      "4    1.51742  13.27  3.62  1.24  73.08  0.55  8.07  0.00  0.0     1\n",
      "..       ...    ...   ...   ...    ...   ...   ...   ...  ...   ...\n",
      "209  1.51623  14.14  0.00  2.88  72.61  0.08  9.18  1.06  0.0     7\n",
      "210  1.51685  14.92  0.00  1.99  73.06  0.00  8.40  1.59  0.0     7\n",
      "211  1.52065  14.36  0.00  2.02  73.42  0.00  8.44  1.64  0.0     7\n",
      "212  1.51651  14.38  0.00  1.94  73.61  0.00  8.48  1.57  0.0     7\n",
      "213  1.51711  14.23  0.00  2.08  73.36  0.00  8.62  1.67  0.0     7\n",
      "\n",
      "[214 rows x 10 columns]\n",
      "<class 'pandas.core.frame.DataFrame'>\n",
      "RangeIndex: 214 entries, 0 to 213\n",
      "Data columns (total 10 columns):\n",
      " #   Column  Non-Null Count  Dtype  \n",
      "---  ------  --------------  -----  \n",
      " 0   RI      214 non-null    float64\n",
      " 1   Na      214 non-null    float64\n",
      " 2   Mg      214 non-null    float64\n",
      " 3   Al      214 non-null    float64\n",
      " 4   Si      214 non-null    float64\n",
      " 5   K       214 non-null    float64\n",
      " 6   Ca      214 non-null    float64\n",
      " 7   Ba      214 non-null    float64\n",
      " 8   Fe      214 non-null    float64\n",
      " 9   Type    214 non-null    int64  \n",
      "dtypes: float64(9), int64(1)\n",
      "memory usage: 16.8 KB\n",
      "[1 2 3 5 6 7]\n"
     ]
    },
    {
     "data": {
      "text/plain": [
       "<AxesSubplot:>"
      ]
     },
     "execution_count": 3,
     "metadata": {},
     "output_type": "execute_result"
    },
    {
     "data": {
      "image/png": "[encoded data removed]",
      "text/plain": [
       "<Figure size 640x480 with 1 Axes>"
      ]
     },
     "metadata": {},
     "output_type": "display_data"
    }
   ],
   "source": [
    "#1.Learn to use Cross validation to pick the best models.\n",
    "import pandas as pd\n",
    "import matplotlib.pyplot as plot\n",
    "%matplotlib inline\n",
    "import numpy as np\n",
    "import os\n",
    "os.chdir('F:\\\\Gurudatt\\\\gg\\\\Topmentor\\\\Batch64 Day31\\\\Batch64 Day31\\\\CS 44 Ans - Model Selection and Boosting-2')\n",
    "os.getcwd()\n",
    "data = pd.read_csv(\"glass.csv\")\n",
    "print(data)\n",
    "data.info()\n",
    "data[\"Type\"].values\n",
    "types = data[\"Type\"].values\n",
    "print(np.unique(types))\n",
    "fig, ax = plot.subplots()\n",
    "data['Type'].value_counts().plot(ax=ax, kind='bar')"
   ]
  },
  {
   "cell_type": "code",
   "execution_count": 4,
   "id": "3c3ae938",
   "metadata": {},
   "outputs": [
    {
     "name": "stdout",
     "output_type": "stream",
     "text": [
      "[[ 1.52101 13.64     4.49    ...  8.75     0.       0.     ]\n",
      " [ 1.51761 13.89     3.6     ...  7.83     0.       0.     ]\n",
      " [ 1.51618 13.53     3.55    ...  7.78     0.       0.     ]\n",
      " ...\n",
      " [ 1.52065 14.36     0.      ...  8.44     1.64     0.     ]\n",
      " [ 1.51651 14.38     0.      ...  8.48     1.57     0.     ]\n",
      " [ 1.51711 14.23     0.      ...  8.62     1.67     0.     ]]\n"
     ]
    }
   ],
   "source": [
    "#2.\tMake a train_test split and fit a single decision tree classifier.\n",
    "X, y = data.iloc[:, :-1].values, data.iloc[:, -1].values\n",
    "print (X)"
   ]
  },
  {
   "cell_type": "code",
   "execution_count": 5,
   "id": "ff0ce0bd",
   "metadata": {},
   "outputs": [
    {
     "name": "stdout",
     "output_type": "stream",
     "text": [
      "[1 1 1 1 1 1 1 1 1 1 1 1 1 1 1 1 1 1 1 1 1 1 1 1 1 1 1 1 1 1 1 1 1 1 1 1 1\n",
      " 1 1 1 1 1 1 1 1 1 1 1 1 1 1 1 1 1 1 1 1 1 1 1 1 1 1 1 1 1 1 1 1 1 2 2 2 2\n",
      " 2 2 2 2 2 2 2 2 2 2 2 2 2 2 2 2 2 2 2 2 2 2 2 2 2 2 2 2 2 2 2 2 2 2 2 2 2\n",
      " 2 2 2 2 2 2 2 2 2 2 2 2 2 2 2 2 2 2 2 2 2 2 2 2 2 2 2 2 2 2 2 2 2 2 2 3 3\n",
      " 3 3 3 3 3 3 3 3 3 3 3 3 3 3 3 5 5 5 5 5 5 5 5 5 5 5 5 5 6 6 6 6 6 6 6 6 6\n",
      " 7 7 7 7 7 7 7 7 7 7 7 7 7 7 7 7 7 7 7 7 7 7 7 7 7 7 7 7 7]\n"
     ]
    }
   ],
   "source": [
    "print (y)"
   ]
  },
  {
   "cell_type": "code",
   "execution_count": 6,
   "id": "b3b8375f",
   "metadata": {},
   "outputs": [
    {
     "name": "stdout",
     "output_type": "stream",
     "text": [
      "[0 0 0 0 0 0 0 0 0 0 0 0 0 0 0 0 0 0 0 0 0 0 0 0 0 0 0 0 0 0 0 0 0 0 0 0 0\n",
      " 0 0 0 0 0 0 0 0 0 0 0 0 0 0 0 0 0 0 0 0 0 0 0 0 0 0 0 0 0 0 0 0 0 1 1 1 1\n",
      " 1 1 1 1 1 1 1 1 1 1 1 1 1 1 1 1 1 1 1 1 1 1 1 1 1 1 1 1 1 1 1 1 1 1 1 1 1\n",
      " 1 1 1 1 1 1 1 1 1 1 1 1 1 1 1 1 1 1 1 1 1 1 1 1 1 1 1 1 1 1 1 1 1 1 1 2 2\n",
      " 2 2 2 2 2 2 2 2 2 2 2 2 2 2 2 3 3 3 3 3 3 3 3 3 3 3 3 3 4 4 4 4 4 4 4 4 4\n",
      " 5 5 5 5 5 5 5 5 5 5 5 5 5 5 5 5 5 5 5 5 5 5 5 5 5 5 5 5 5]\n"
     ]
    }
   ],
   "source": [
    "from sklearn.preprocessing import LabelEncoder\n",
    "gender_encoder = LabelEncoder()\n",
    "y = gender_encoder.fit_transform(y)\n",
    "print (y)"
   ]
  },
  {
   "cell_type": "code",
   "execution_count": 7,
   "id": "b3930fb7",
   "metadata": {},
   "outputs": [
    {
     "name": "stdout",
     "output_type": "stream",
     "text": [
      "(171, 9)\n"
     ]
    }
   ],
   "source": [
    "from sklearn.model_selection import train_test_split\n",
    "X_train, X_test, y_train, y_test = train_test_split(X, y, test_size=0.2, random_state=1)\n",
    "print(X_train.shape)"
   ]
  },
  {
   "cell_type": "code",
   "execution_count": 8,
   "id": "42e4d8d2",
   "metadata": {},
   "outputs": [
    {
     "data": {
      "text/plain": [
       "DecisionTreeClassifier()"
      ]
     },
     "execution_count": 8,
     "metadata": {},
     "output_type": "execute_result"
    }
   ],
   "source": [
    "from sklearn.tree import DecisionTreeClassifier\n",
    "clf = DecisionTreeClassifier()\n",
    "clf.fit(X_train,y_train)"
   ]
  },
  {
   "cell_type": "code",
   "execution_count": 9,
   "id": "3506a546",
   "metadata": {},
   "outputs": [],
   "source": [
    "y_predict = clf.predict(X_test)"
   ]
  },
  {
   "cell_type": "code",
   "execution_count": 10,
   "id": "e5f71963",
   "metadata": {},
   "outputs": [
    {
     "name": "stdout",
     "output_type": "stream",
     "text": [
      "0.6976744186046512\n",
      "[[14  2  1  0  0  0]\n",
      " [ 4  7  2  0  0  0]\n",
      " [ 1  0  3  0  0  0]\n",
      " [ 0  1  0  1  0  0]\n",
      " [ 0  1  0  0  1  0]\n",
      " [ 0  1  0  0  0  4]]\n"
     ]
    }
   ],
   "source": [
    "from sklearn.metrics import accuracy_score\n",
    "from sklearn.metrics import  confusion_matrix\n",
    "accuracy = accuracy_score(y_predict,y_test)\n",
    "print(accuracy)\n",
    "print(confusion_matrix(y_predict,y_test))"
   ]
  },
  {
   "cell_type": "code",
   "execution_count": 12,
   "id": "7abd54e6",
   "metadata": {},
   "outputs": [
    {
     "name": "stdout",
     "output_type": "stream",
     "text": [
      "(171, 9) (171,)\n"
     ]
    }
   ],
   "source": [
    "\"\"\"3.Make a k-fold split with 3 splits and measure the accuracy score with each split \n",
    "[Hint: Refer to KFold module under sklearn’s model selection.]\"\"\"\n",
    "from sklearn.model_selection import KFold\n",
    "from sklearn.metrics import  confusion_matrix\n",
    "k_fold = KFold(3)\n",
    "print(X_train.shape,y_train.shape)"
   ]
  },
  {
   "cell_type": "code",
   "execution_count": 13,
   "id": "15dea2de",
   "metadata": {},
   "outputs": [
    {
     "name": "stdout",
     "output_type": "stream",
     "text": [
      "0.7209302325581395\n",
      "0.7441860465116279\n",
      "0.6976744186046512\n"
     ]
    }
   ],
   "source": [
    "models =[]\n",
    "for k in enumerate(k_fold.split(X_train, y_train)):\n",
    "    clf.fit(X_train,y_train)\n",
    "    print(clf.score(X_test,y_test))\n",
    "    models.append(clf)"
   ]
  },
  {
   "cell_type": "code",
   "execution_count": 14,
   "id": "ec04e710",
   "metadata": {},
   "outputs": [
    {
     "name": "stdout",
     "output_type": "stream",
     "text": [
      "0.6976744186046512\n",
      "[[14  2  1  0  0  0]\n",
      " [ 3  7  2  0  0  0]\n",
      " [ 1  0  3  0  0  0]\n",
      " [ 0  1  0  1  0  0]\n",
      " [ 0  1  0  0  1  0]\n",
      " [ 1  1  0  0  0  4]]\n"
     ]
    }
   ],
   "source": [
    "y_predict = clf.predict(X_test)\n",
    "print ( accuracy_score(y_predict,y_test))\n",
    "print(confusion_matrix(y_predict,y_test))"
   ]
  },
  {
   "cell_type": "code",
   "execution_count": 15,
   "id": "5be67a5a",
   "metadata": {},
   "outputs": [
    {
     "data": {
      "text/plain": [
       "GridSearchCV(cv=KFold(n_splits=10, random_state=None, shuffle=False),\n",
       "             estimator=RandomForestClassifier(),\n",
       "             param_grid={'n_estimators': [1, 2, 4, 8, 16, 32]})"
      ]
     },
     "execution_count": 15,
     "metadata": {},
     "output_type": "execute_result"
    }
   ],
   "source": [
    "\"\"\"4.Use gridSearchCV from sklearn for finding out a suitable number of estimators for a RandomForestClassifer \n",
    "along with a 10-fold cross validation.[Hint: Define a range of estimators and feed in range as param_grid]\"\"\"\n",
    "from sklearn.ensemble import RandomForestClassifier\n",
    "from sklearn.model_selection import GridSearchCV\n",
    "n_estimators_range = [1,2,4,8,16,32]\n",
    "grid_cv= GridSearchCV(RandomForestClassifier(),param_grid=dict(n_estimators=n_estimators_range),cv=KFold(10))\n",
    "grid_cv.fit(X_train,y_train)"
   ]
  },
  {
   "cell_type": "code",
   "execution_count": 16,
   "id": "4918b963",
   "metadata": {},
   "outputs": [
    {
     "data": {
      "text/plain": [
       "0.7601307189542483"
      ]
     },
     "execution_count": 16,
     "metadata": {},
     "output_type": "execute_result"
    }
   ],
   "source": [
    "grid_cv.best_score_"
   ]
  },
  {
   "cell_type": "code",
   "execution_count": 17,
   "id": "b4b27bbb",
   "metadata": {},
   "outputs": [
    {
     "data": {
      "text/plain": [
       "RandomForestClassifier(n_estimators=16)"
      ]
     },
     "execution_count": 17,
     "metadata": {},
     "output_type": "execute_result"
    }
   ],
   "source": [
    "grid_cv.best_estimator_"
   ]
  },
  {
   "cell_type": "code",
   "execution_count": 18,
   "id": "915c0225",
   "metadata": {},
   "outputs": [
    {
     "name": "stdout",
     "output_type": "stream",
     "text": [
      "0.7441860465116279\n",
      "[[14  1  2  0  0  0]\n",
      " [ 2 10  2  0  0  0]\n",
      " [ 3  0  2  0  0  0]\n",
      " [ 0  0  0  1  0  0]\n",
      " [ 0  0  0  0  1  0]\n",
      " [ 0  1  0  0  0  4]]\n"
     ]
    }
   ],
   "source": [
    "y_predict = grid_cv.predict(X_test)\n",
    "print ( accuracy_score(y_predict,y_test))\n",
    "conf_mat = confusion_matrix(y_predict,y_test)\n",
    "print(conf_mat)"
   ]
  },
  {
   "cell_type": "code",
   "execution_count": null,
   "id": "8c28ca70",
   "metadata": {},
   "outputs": [],
   "source": []
  },
  {
   "cell_type": "code",
   "execution_count": null,
   "id": "77da429b",
   "metadata": {},
   "outputs": [],
   "source": []
  },
  {
   "cell_type": "code",
   "execution_count": null,
   "id": "f335ea8c",
   "metadata": {},
   "outputs": [],
   "source": []
  },
  {
   "cell_type": "code",
   "execution_count": null,
   "id": "0f0138c3",
   "metadata": {},
   "outputs": [],
   "source": []
  },
  {
   "cell_type": "code",
   "execution_count": null,
   "id": "e6f76abe",
   "metadata": {},
   "outputs": [],
   "source": []
  },
  {
   "cell_type": "code",
   "execution_count": null,
   "id": "fd13c877",
   "metadata": {},
   "outputs": [],
   "source": []
  },
  {
   "cell_type": "code",
   "execution_count": null,
   "id": "3eb5253d",
   "metadata": {},
   "outputs": [],
   "source": []
  },
  {
   "cell_type": "code",
   "execution_count": null,
   "id": "9dbf2cec",
   "metadata": {},
   "outputs": [],
   "source": []
  }
 ],
 "metadata": {
  "kernelspec": {
   "display_name": "Python 3 (ipykernel)",
   "language": "python",
   "name": "python3"
  },
  "language_info": {
   "codemirror_mode": {
    "name": "ipython",
    "version": 3
   },
   "file_extension": ".py",
   "mimetype": "text/x-python",
   "name": "python",
   "nbconvert_exporter": "python",
   "pygments_lexer": "ipython3",
   "version": "3.9.13"
  }
 },
 "nbformat": 4,
 "nbformat_minor": 5
}
